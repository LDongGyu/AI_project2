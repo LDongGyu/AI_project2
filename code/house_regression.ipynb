{
 "cells": [
  {
   "cell_type": "code",
   "execution_count": null,
   "metadata": {},
   "outputs": [],
   "source": [
    "from tkinter.filedialog import askopenfilename\n",
    "import pandas as pd\n",
    "import tkinter\n",
    "import os\n",
    "import numpy as np\n",
    "\n",
    "tk_window = tkinter.Tk()\n",
    "cwd = os.getcwd()\n",
    "\n",
    "tr_data = pd.read_csv(askopenfilename(title='Choose your training data'))\n",
    "\n",
    "tr_ans = pd.read_csv(askopenfilename(title='Choose your training answer'))\n",
    "\n",
    "tr_ans = tr_ans.iloc[:, 0]\n",
    "\n",
    "ts_data = pd.read_csv(askopenfilename(title='Choose your test data'))\n",
    "\n",
    "tk_window.destroy()\n"
   ]
  },
  {
   "cell_type": "code",
   "execution_count": null,
   "metadata": {},
   "outputs": [],
   "source": [
    "\n",
    "\n",
    "# 문제 발생 시 다음 코드로!!\n",
    "#string_columns = tr_data.dtypes\n",
    "#string_boolidx = string_columns == np.object\n",
    "#tr_data = tr_data.drop(tr_data.columns[string_boolidx], axis=1)\n",
    "#ts_data = ts_data.drop(ts_data.columns[string_boolidx], axis=1)\n",
    "\n",
    "# one hot encoding 할 column 선택\n",
    "one_hot_encode_cols = tr_data.dtypes[tr_data.dtypes == np.object]  # filtering by string categoricals\n",
    "one_hot_encode_cols = one_hot_encode_cols.index.tolist()  # list of categorical fields\n",
    "\n",
    "# one hot encoding\n",
    "for col in one_hot_encode_cols:\n",
    "    tr_data[col] = pd.Categorical(tr_data[col])\n",
    "tr_data = pd.get_dummies(tr_data, columns=one_hot_encode_cols)\n",
    "for col in one_hot_encode_cols:\n",
    "    ts_data[col] = pd.Categorical(ts_data[col])\n",
    "ts_data = pd.get_dummies(ts_data, columns=one_hot_encode_cols)\n",
    "\n",
    "# one hot encoding 된 column들의 교집합\n",
    "tr_data_columns = set(tr_data.columns)\n",
    "ts_data_columns = set(ts_data.columns)\n",
    "\n",
    "columns = tr_data_columns & ts_data_columns # 교집합\n",
    "columns = list(columns)\n",
    "\n",
    "tr_data = tr_data[columns]\n",
    "ts_data = ts_data[columns]\n",
    "\n",
    "# 모델 선택\n",
    "from sklearn.ensemble import GradientBoostingRegressor\n",
    "# 1000,0.1,2 random forest보다 좋음\n",
    "# 800, 0.045, 4 원래 했던거!\n",
    "# 900, 0.0475, 4\n",
    "model = GradientBoostingRegressor(n_estimators = 900, learning_rate =0.0475, \n",
    "                                 max_depth = 4, random_state=0)\n",
    "\n",
    "model = model.fit(tr_data, tr_ans)\n",
    "\n",
    "y_pred = model.predict(ts_data)\n",
    "\n",
    "\n",
    "pred_df = pd.DataFrame(y_pred)\n",
    "\n",
    "pred_df.to_csv(\"output.csv\", mode='w')\n",
    "\n",
    "# End of Demo"
   ]
  },
  {
   "cell_type": "code",
   "execution_count": null,
   "metadata": {},
   "outputs": [],
   "source": [
    "from sklearn.metrics import mean_squared_error\n",
    "\n",
    "\n",
    "def rmse(ytrue, ypredicted):\n",
    "    return np.sqrt(mean_squared_error(ytrue, ypredicted))\n",
    "\n",
    "tk_window = tkinter.Tk()\n",
    "cwd = os.getcwd()\n",
    "ts_ans = pd.read_csv(askopenfilename(title='Choose your test answer'))\n",
    "ts_ans = ts_ans.iloc[:, 0]\n",
    "tk_window.destroy()\n",
    "\n",
    "print(rmse(ts_ans, y_pred))"
   ]
  },
  {
   "cell_type": "code",
   "execution_count": null,
   "metadata": {},
   "outputs": [],
   "source": []
  }
 ],
 "metadata": {
  "kernelspec": {
   "display_name": "Python 3",
   "language": "python",
   "name": "python3"
  },
  "language_info": {
   "codemirror_mode": {
    "name": "ipython",
    "version": 3
   },
   "file_extension": ".py",
   "mimetype": "text/x-python",
   "name": "python",
   "nbconvert_exporter": "python",
   "pygments_lexer": "ipython3",
   "version": "3.6.5"
  }
 },
 "nbformat": 4,
 "nbformat_minor": 2
}
