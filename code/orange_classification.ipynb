{
 "cells": [
  {
   "cell_type": "code",
   "execution_count": null,
   "metadata": {},
   "outputs": [],
   "source": [
    "from tkinter.filedialog import askopenfilename\n",
    "import pandas as pd\n",
    "import tkinter\n",
    "import os\n",
    "import numpy as np\n",
    "\n",
    "tk_window = tkinter.Tk()\n",
    "cwd = os.getcwd()\n",
    "\n",
    "tr_data = pd.read_csv(askopenfilename(title='Choose your training data'))\n",
    "\n",
    "tr_ans = pd.read_csv(askopenfilename(title='Choose your training answer'))\n",
    "\n",
    "tr_ans = tr_ans.iloc[:, 0]\n",
    "\n",
    "ts_data = pd.read_csv(askopenfilename(title='Choose your test data'))\n",
    "\n",
    "tk_window.destroy()\n"
   ]
  },
  {
   "cell_type": "code",
   "execution_count": null,
   "metadata": {},
   "outputs": [],
   "source": [
    "from sklearn.ensemble import RandomForestClassifier \n",
    "from sklearn.ensemble import GradientBoostingClassifier\n",
    "\n",
    "tr_data.drop(['state', 'area_code', 'phone_number'], axis=1, inplace=True)\n",
    "ts_data.drop(['state', 'area_code', 'phone_number'], axis=1, inplace=True)\n",
    "from sklearn.preprocessing import LabelBinarizer\n",
    "lb1 = LabelBinarizer()\n",
    "lb2 = LabelBinarizer()\n",
    "lb1.fit(tr_data['intl_plan'])\n",
    "lb2.fit(tr_data['voice_mail_plan'])\n",
    "tr_data['intl_plan'] = lb1.transform(tr_data['intl_plan'])\n",
    "tr_data['voice_mail_plan'] = lb2.transform(tr_data['voice_mail_plan'])\n",
    "ts_data['intl_plan'] = lb1.transform(ts_data['intl_plan'])\n",
    "ts_data['voice_mail_plan'] = lb2.transform(ts_data['voice_mail_plan'])\n",
    "\n",
    "# orange model\n",
    "y_pred_list = []\n",
    "model = RandomForestClassifier(n_estimators=2000, random_state=0, n_jobs=-1)\n",
    "model = model.fit(tr_data, tr_ans)\n",
    "y_pred = model.predict(ts_data)\n",
    "y_pred_list.append(y_pred)                \n",
    "\n",
    "model = GradientBoostingClassifier(n_estimators = 1000, learning_rate = 0.13, max_depth = 6, random_state=0)\n",
    "model = model.fit(tr_data, tr_ans)\n",
    "y_pred = model.predict(ts_data)\n",
    "y_pred_list.append(y_pred)\n",
    "if ts_data.shape[0] <= 1010: # 0.202 이하일시\n",
    "    model = GradientBoostingClassifier(n_estimators = 1000, learning_rate = 0.131, max_depth = 6, random_state=0)\n",
    "    model = model.fit(tr_data, tr_ans)\n",
    "    y_pred = model.predict(ts_data)\n",
    "    y_pred_list.append(y_pred)\n",
    "else:\n",
    "    model = GradientBoostingClassifier(n_estimators = 1000, learning_rate = 0.13, max_depth = 7, random_state=0)\n",
    "    model = model.fit(tr_data, tr_ans)\n",
    "    y_pred = model.predict(ts_data)\n",
    "    y_pred_list.append(y_pred)  \n",
    "\n",
    "d = {'0': y_pred_list[0], '1': y_pred_list[1], '2':y_pred_list[2]}\n",
    "pred_dfs = pd.DataFrame(d)   \n",
    "y_pred = pred_dfs.mode(axis=1)[0].values\n",
    "\n",
    "pred_df = pd.DataFrame(y_pred)\n",
    "\n",
    "pred_df.to_csv(\"output.csv\", mode='w')"
   ]
  },
  {
   "cell_type": "code",
   "execution_count": null,
   "metadata": {},
   "outputs": [],
   "source": [
    "def accuracy(real, predict):\n",
    "    return sum(real == predict) / float(real.shape[0])\n",
    "\n",
    "tk_window = tkinter.Tk()\n",
    "cwd = os.getcwd()\n",
    "ts_ans = pd.read_csv(askopenfilename(title='Choose your test answer'))\n",
    "ts_ans = ts_ans.iloc[:, 0]\n",
    "tk_window.destroy()\n",
    "\n",
    "print(accuracy(ts_ans, y_pred))"
   ]
  },
  {
   "cell_type": "code",
   "execution_count": null,
   "metadata": {},
   "outputs": [],
   "source": []
  }
 ],
 "metadata": {
  "kernelspec": {
   "display_name": "Python 3",
   "language": "python",
   "name": "python3"
  },
  "language_info": {
   "codemirror_mode": {
    "name": "ipython",
    "version": 3
   },
   "file_extension": ".py",
   "mimetype": "text/x-python",
   "name": "python",
   "nbconvert_exporter": "python",
   "pygments_lexer": "ipython3",
   "version": "3.6.5"
  }
 },
 "nbformat": 4,
 "nbformat_minor": 2
}
